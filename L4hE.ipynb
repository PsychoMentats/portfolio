{
  "nbformat": 4,
  "nbformat_minor": 0,
  "metadata": {
    "colab": {
      "provenance": [],
      "collapsed_sections": [],
      "toc_visible": true,
      "authorship_tag": "ABX9TyODwZpiMpEoZaOhK0eZ3QVJ",
      "include_colab_link": true
    },
    "kernelspec": {
      "name": "python3",
      "display_name": "Python 3"
    },
    "language_info": {
      "name": "python"
    }
  },
  "cells": [
    {
      "cell_type": "markdown",
      "metadata": {
        "id": "view-in-github",
        "colab_type": "text"
      },
      "source": [
        "<a href=\"https://colab.research.google.com/github/PsychoMentats/portfolio/blob/main/L4hE.ipynb\" target=\"_parent\"><img src=\"https://colab.research.google.com/assets/colab-badge.svg\" alt=\"Open In Colab\"/></a>"
      ]
    },
    {
      "cell_type": "code",
      "execution_count": null,
      "metadata": {
        "colab": {
          "base_uri": "https://localhost:8080/"
        },
        "id": "D6hP01rUPpEZ",
        "outputId": "8223cb41-06bc-4450-b411-de88c99aa86e"
      },
      "outputs": [
        {
          "output_type": "stream",
          "name": "stdout",
          "text": [
            "Hello World. This is me :)\n"
          ]
        }
      ],
      "source": [
        "mytruth=\"This is me :)\"\n",
        "print(\"Hello World\"+\". \"+mytruth)"
      ]
    },
    {
      "cell_type": "markdown",
      "source": [
        "Text for the sake of it."
      ],
      "metadata": {
        "id": "F-UtmqB6RP0E"
      }
    },
    {
      "cell_type": "code",
      "source": [
        "a=True\n",
        "a=(a!=a)\n",
        "a=\"trees grow\""
      ],
      "metadata": {
        "id": "qDbIyYRFRbeU"
      },
      "execution_count": null,
      "outputs": []
    },
    {
      "cell_type": "code",
      "source": [
        "print(\"bool: \"+str(type(bool)))\n",
        "print(\"True: \"+\"\\b\"+str(type(True)))"
      ],
      "metadata": {
        "colab": {
          "base_uri": "https://localhost:8080/"
        },
        "id": "3oZ4mWeMdwv4",
        "outputId": "dcea179a-0626-4ed8-d5b2-1fe412bf304c"
      },
      "execution_count": null,
      "outputs": [
        {
          "output_type": "stream",
          "name": "stdout",
          "text": [
            "bool: <class 'type'>\n",
            "True: \b<class 'bool'>\n"
          ]
        }
      ]
    },
    {
      "cell_type": "code",
      "source": [
        "\n",
        "for i in range(99):\n",
        "  txt=\"x\"\n",
        "  if i<=9 :\n",
        "    txt=txt+\"0\"+str(i)\n",
        "  else:\n",
        "    txt+=str(i)\n",
        "#  s=\"\\\\\"+txt\n"
      ],
      "metadata": {
        "id": "gtQVX6IgiW9i"
      },
      "execution_count": null,
      "outputs": []
    },
    {
      "cell_type": "code",
      "source": [
        "a"
      ],
      "metadata": {
        "colab": {
          "base_uri": "https://localhost:8080/",
          "height": 35
        },
        "id": "1pQ3r4-quWt8",
        "outputId": "ff7cf3d8-0e80-43e0-8dd7-65d75cbe93f0"
      },
      "execution_count": null,
      "outputs": [
        {
          "output_type": "execute_result",
          "data": {
            "text/plain": [
              "'trees grow'"
            ],
            "application/vnd.google.colaboratory.intrinsic+json": {
              "type": "string"
            }
          },
          "metadata": {},
          "execution_count": 96
        }
      ]
    }
  ]
}